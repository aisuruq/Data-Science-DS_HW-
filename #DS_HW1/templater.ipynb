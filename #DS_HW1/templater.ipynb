{
 "cells": [
  {
   "cell_type": "code",
   "execution_count": null,
   "metadata": {},
   "outputs": [
    {
     "ename": "ModuleNotFoundError",
     "evalue": "No module named 'pandas'",
     "output_type": "error",
     "traceback": [
      "\u001b[1;31m---------------------------------------------------------------------------\u001b[0m",
      "\u001b[1;31mModuleNotFoundError\u001b[0m                       Traceback (most recent call last)",
      "Cell \u001b[1;32mIn[2], line 2\u001b[0m\n\u001b[0;32m      1\u001b[0m \u001b[38;5;66;03m# 📌 Основные библиотеки\u001b[39;00m\n\u001b[1;32m----> 2\u001b[0m \u001b[38;5;28;01mimport\u001b[39;00m\u001b[38;5;250m \u001b[39m\u001b[38;5;21;01mpandas\u001b[39;00m\u001b[38;5;250m \u001b[39m\u001b[38;5;28;01mas\u001b[39;00m\u001b[38;5;250m \u001b[39m\u001b[38;5;21;01mpd\u001b[39;00m  \u001b[38;5;66;03m# Анализ данных и таблицы\u001b[39;00m\n\u001b[0;32m      3\u001b[0m \u001b[38;5;28;01mimport\u001b[39;00m\u001b[38;5;250m \u001b[39m\u001b[38;5;21;01mmatplotlib\u001b[39;00m\u001b[38;5;21;01m.\u001b[39;00m\u001b[38;5;21;01mpyplot\u001b[39;00m\u001b[38;5;250m \u001b[39m\u001b[38;5;28;01mas\u001b[39;00m\u001b[38;5;250m \u001b[39m\u001b[38;5;21;01mplt\u001b[39;00m  \u001b[38;5;66;03m# Визуализация графиков\u001b[39;00m\n\u001b[0;32m      4\u001b[0m \u001b[38;5;28;01mimport\u001b[39;00m\u001b[38;5;250m \u001b[39m\u001b[38;5;21;01mseaborn\u001b[39;00m\u001b[38;5;250m \u001b[39m\u001b[38;5;28;01mas\u001b[39;00m\u001b[38;5;250m \u001b[39m\u001b[38;5;21;01msns\u001b[39;00m  \u001b[38;5;66;03m# Улучшенные графики\u001b[39;00m\n",
      "\u001b[1;31mModuleNotFoundError\u001b[0m: No module named 'pandas'"
     ]
    }
   ],
   "source": [
    "# 📌 Основные библиотеки\n",
    "import numpy as np  # Работа с массивами и математикой\n",
    "import pandas as pd  # Анализ данных и таблицы\n",
    "import matplotlib.pyplot as plt  # Визуализация графиков\n",
    "import seaborn as sns  # Улучшенные графики\n",
    "import scipy.stats as stats  # Статистика и тесты гипотез\n",
    "\n",
    "# 📌 Машинное обучение\n",
    "import sklearn  # Библиотека машинного обучения\n",
    "from sklearn.model_selection import train_test_split  # Разделение выборки\n",
    "from sklearn.preprocessing import StandardScaler  # Нормализация данных\n",
    "from sklearn.linear_model import LinearRegression  # Линейная регрессия\n",
    "\n",
    "# 📌 Глубокое обучение\n",
    "import tensorflow as tf  # Фреймворк для нейросетей\n",
    "import torch  # Альтернативный фреймворк PyTorch\n",
    "\n",
    "# 📌 Работа с файлами и путями\n",
    "import os  # Работа с файловой системой\n",
    "import json  # Работа с JSON-файлами\n",
    "\n",
    "# 📌 Магические команды Jupyter Notebook\n",
    "%matplotlib inline  # Встраивание графиков прямо в ноутбук\n",
    "%load_ext autoreload  # Автоматическая перезагрузка модулей\n",
    "%autoreload 2  # Автоматическая подгрузка изменений в коде"
   ]
  },
  {
   "cell_type": "markdown",
   "metadata": {},
   "source": [
    "## Полезные магические команды Jupyter Notebook\n",
    "## Команда\tОписание\n",
    "- %matplotlib inline\tВстраивает графики прямо в ноутбук\n",
    "- %timeit\tИзмеряет время выполнения кода\n",
    "- %run script.py\tЗапускает внешний Python-скрипт\n",
    "- %history -n 10\tПоказывает последние 10 команд\n",
    "- %load_ext autoreload\tАвтоперезагрузка измененных модулей\n",
    "- %debug\tЗапускает интерактивный отладчик\n",
    "- %%writefile script.py\tСоздаёт Python-скрипт прямо из ноутбука"
   ]
  }
 ],
 "metadata": {
  "kernelspec": {
   "display_name": "Python 3",
   "language": "python",
   "name": "python3"
  },
  "language_info": {
   "codemirror_mode": {
    "name": "ipython",
    "version": 3
   },
   "file_extension": ".py",
   "mimetype": "text/x-python",
   "name": "python",
   "nbconvert_exporter": "python",
   "pygments_lexer": "ipython3",
   "version": "3.13.2"
  }
 },
 "nbformat": 4,
 "nbformat_minor": 2
}
