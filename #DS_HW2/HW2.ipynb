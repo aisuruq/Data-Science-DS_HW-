{
 "cells": [
  {
   "cell_type": "code",
   "execution_count": null,
   "metadata": {},
   "outputs": [],
   "source": [
    "%run ./../template.ipynb"
   ]
  },
  {
   "cell_type": "code",
   "execution_count": 2,
   "metadata": {},
   "outputs": [
    {
     "name": "stdout",
     "output_type": "stream",
     "text": [
      "Downloading from https://www.kaggle.com/api/v1/datasets/download/rohanrao/air-quality-data-in-india?dataset_version_number=12...\n"
     ]
    },
    {
     "name": "stderr",
     "output_type": "stream",
     "text": [
      "100%|██████████| 72.9M/72.9M [00:23<00:00, 3.25MB/s]"
     ]
    },
    {
     "name": "stdout",
     "output_type": "stream",
     "text": [
      "Extracting files...\n"
     ]
    },
    {
     "name": "stderr",
     "output_type": "stream",
     "text": [
      "\n"
     ]
    },
    {
     "name": "stdout",
     "output_type": "stream",
     "text": [
      "Path to dataset files: C:\\Users\\2814\\.cache\\kagglehub\\datasets\\rohanrao\\air-quality-data-in-india\\versions\\12\n"
     ]
    }
   ],
   "source": [
    "path = kagglehub.dataset_download(\"rohanrao/air-quality-data-in-india\")\n",
    "\n",
    "print(\"Path to dataset files:\", path)"
   ]
  },
  {
   "cell_type": "code",
   "execution_count": null,
   "metadata": {},
   "outputs": [],
   "source": [
    "data_path = Path(config['ml']['data_folder'])\n",
    "shutil.move(path, data_path)"
   ]
  },
  {
   "cell_type": "code",
   "execution_count": 4,
   "metadata": {},
   "outputs": [],
   "source": [
    "train_df = pd.read_csv(data_path / \"12/city_day.csv\")\n",
    "val_df = pd.read_csv(data_path / \"12/city_day.csv\")"
   ]
  },
  {
   "cell_type": "code",
   "execution_count": 5,
   "metadata": {},
   "outputs": [
    {
     "name": "stdout",
     "output_type": "stream",
     "text": [
      "(29531, 16)\n"
     ]
    }
   ],
   "source": [
    "train_df.head()\n",
    "print(train_df.shape)"
   ]
  },
  {
   "cell_type": "code",
   "execution_count": 6,
   "metadata": {},
   "outputs": [
    {
     "name": "stdout",
     "output_type": "stream",
     "text": [
      "(29531, 16)\n"
     ]
    }
   ],
   "source": [
    "print(val_df.shape)"
   ]
  },
  {
   "cell_type": "code",
   "execution_count": null,
   "metadata": {},
   "outputs": [],
   "source": [
    "# Пропущенные поля\n",
    "print(train_df.isnull().sum())\n",
    "# Убираем колонки \n",
    "train_df.drop(columns=[\"City\", \"Date\"], inplace=True)\n",
    "# Заполнение NaN (например, медианой или средним) - надо ли нам это?\n",
    "# train_df.head().fillna(train_df.head().median(), inplace=True) "
   ]
  },
  {
   "cell_type": "code",
   "execution_count": 24,
   "metadata": {},
   "outputs": [
    {
     "name": "stdout",
     "output_type": "stream",
     "text": [
      "            Date  PM2.5     CO      O3\n",
      "0     2015-01-01  58.37   0.92  133.36\n",
      "1     2015-01-02  58.37   0.97   34.06\n",
      "2     2015-01-03  58.37  17.40   30.70\n",
      "3     2015-01-04  58.37   1.70   36.08\n",
      "4     2015-01-05  58.37  22.10   39.31\n",
      "...          ...    ...    ...     ...\n",
      "2004  2020-06-27  62.12   0.49   68.05\n",
      "2005  2020-06-28  31.57   0.52   26.34\n",
      "2006  2020-06-29  29.75   0.67   34.99\n",
      "2007  2020-06-30  40.02   0.73   41.64\n",
      "2008  2020-07-01  37.63   0.28    9.69\n",
      "\n",
      "[2009 rows x 4 columns]\n"
     ]
    }
   ],
   "source": [
    "# Здесь мы фильтруем данные для города \"Ahmedabad\" и выбираем столбцы \"Date\", \"PM2.5\", \"CO\", \"O3\"\n",
    "city_data = train_df[train_df[\"City\"] == \"Ahmedabad\"][[\"Date\", \"PM2.5\", \"CO\", \"O3\"]]\n",
    "\n",
    "# Теперь заполним пропуски (NaN) в выбранных столбцах медианой этих столбцов\n",
    "city_data[[\"PM2.5\", \"CO\", \"O3\"]] = city_data[[\"PM2.5\", \"CO\", \"O3\"]].fillna(city_data[[\"PM2.5\", \"CO\", \"O3\"]].median())\n",
    "print(city_data)"
   ]
  },
  {
   "cell_type": "code",
   "execution_count": 25,
   "metadata": {},
   "outputs": [
    {
     "name": "stdout",
     "output_type": "stream",
     "text": [
      "TimeSeriesTransformerForPrediction(\n",
      "  (model): TimeSeriesTransformerModel(\n",
      "    (scaler): TimeSeriesMeanScaler()\n",
      "    (embedder): TimeSeriesFeatureEmbedder(\n",
      "      (embedders): ModuleList(\n",
      "        (0): Embedding(270, 2)\n",
      "      )\n",
      "    )\n",
      "    (encoder): TimeSeriesTransformerEncoder(\n",
      "      (value_embedding): TimeSeriesValueEmbedding(\n",
      "        (value_projection): Linear(in_features=49, out_features=32, bias=False)\n",
      "      )\n",
      "      (embed_positions): TimeSeriesSinusoidalPositionalEmbedding(96, 32)\n",
      "      (layers): ModuleList(\n",
      "        (0-3): 4 x TimeSeriesTransformerEncoderLayer(\n",
      "          (self_attn): TimeSeriesTransformerAttention(\n",
      "            (k_proj): Linear(in_features=32, out_features=32, bias=True)\n",
      "            (v_proj): Linear(in_features=32, out_features=32, bias=True)\n",
      "            (q_proj): Linear(in_features=32, out_features=32, bias=True)\n",
      "            (out_proj): Linear(in_features=32, out_features=32, bias=True)\n",
      "          )\n",
      "          (self_attn_layer_norm): LayerNorm((32,), eps=1e-05, elementwise_affine=True)\n",
      "          (activation_fn): GELUActivation()\n",
      "          (fc1): Linear(in_features=32, out_features=32, bias=True)\n",
      "          (fc2): Linear(in_features=32, out_features=32, bias=True)\n",
      "          (final_layer_norm): LayerNorm((32,), eps=1e-05, elementwise_affine=True)\n",
      "        )\n",
      "      )\n",
      "      (layernorm_embedding): LayerNorm((32,), eps=1e-05, elementwise_affine=True)\n",
      "    )\n",
      "    (decoder): TimeSeriesTransformerDecoder(\n",
      "      (value_embedding): TimeSeriesValueEmbedding(\n",
      "        (value_projection): Linear(in_features=49, out_features=32, bias=False)\n",
      "      )\n",
      "      (embed_positions): TimeSeriesSinusoidalPositionalEmbedding(96, 32)\n",
      "      (layers): ModuleList(\n",
      "        (0-3): 4 x TimeSeriesTransformerDecoderLayer(\n",
      "          (self_attn): TimeSeriesTransformerAttention(\n",
      "            (k_proj): Linear(in_features=32, out_features=32, bias=True)\n",
      "            (v_proj): Linear(in_features=32, out_features=32, bias=True)\n",
      "            (q_proj): Linear(in_features=32, out_features=32, bias=True)\n",
      "            (out_proj): Linear(in_features=32, out_features=32, bias=True)\n",
      "          )\n",
      "          (activation_fn): GELUActivation()\n",
      "          (self_attn_layer_norm): LayerNorm((32,), eps=1e-05, elementwise_affine=True)\n",
      "          (encoder_attn): TimeSeriesTransformerAttention(\n",
      "            (k_proj): Linear(in_features=32, out_features=32, bias=True)\n",
      "            (v_proj): Linear(in_features=32, out_features=32, bias=True)\n",
      "            (q_proj): Linear(in_features=32, out_features=32, bias=True)\n",
      "            (out_proj): Linear(in_features=32, out_features=32, bias=True)\n",
      "          )\n",
      "          (encoder_attn_layer_norm): LayerNorm((32,), eps=1e-05, elementwise_affine=True)\n",
      "          (fc1): Linear(in_features=32, out_features=32, bias=True)\n",
      "          (fc2): Linear(in_features=32, out_features=32, bias=True)\n",
      "          (final_layer_norm): LayerNorm((32,), eps=1e-05, elementwise_affine=True)\n",
      "        )\n",
      "      )\n",
      "      (layernorm_embedding): LayerNorm((32,), eps=1e-05, elementwise_affine=True)\n",
      "    )\n",
      "  )\n",
      "  (parameter_projection): ParameterProjection(\n",
      "    (proj): ModuleList(\n",
      "      (0-2): 3 x Linear(in_features=32, out_features=1, bias=True)\n",
      "    )\n",
      "    (domain_map): LambdaLayer()\n",
      "  )\n",
      ")\n"
     ]
    }
   ],
   "source": [
    "from transformers import TimeSeriesTransformerForPrediction\n",
    "\n",
    "model = TimeSeriesTransformerForPrediction.from_pretrained(\"kleopatra102/air_pollution\")\n",
    "\n",
    "print(model)"
   ]
  }
 ],
 "metadata": {
  "kernelspec": {
   "display_name": "Python 3",
   "language": "python",
   "name": "python3"
  },
  "language_info": {
   "codemirror_mode": {
    "name": "ipython",
    "version": 3
   },
   "file_extension": ".py",
   "mimetype": "text/x-python",
   "name": "python",
   "nbconvert_exporter": "python",
   "pygments_lexer": "ipython3",
   "version": "3.13.2"
  }
 },
 "nbformat": 4,
 "nbformat_minor": 2
}
